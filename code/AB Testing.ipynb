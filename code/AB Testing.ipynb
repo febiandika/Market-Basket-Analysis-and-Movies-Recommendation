{
 "cells": [
  {
   "cell_type": "markdown",
   "metadata": {},
   "source": [
    "# AB Testing\n",
    "## Oleh : Febi Andika Dani Fajar Suryawan\n"
   ]
  },
  {
   "cell_type": "markdown",
   "metadata": {},
   "source": [
    "## Studi Kasus\n",
    "Suatu perusahaan memiliki sebuah website perusahaan. Suatu saat, perusahaan ingin mengetahui desain website mana yang lebih banyak mendapat kunjungan (Login) dan jumlah pembelian (Checkout). Diberikan data website perusahaan tersebut dengan dua desain web yang berbeda, yaitu desain A (Control) dan desain B (Treatment). Akan dicari desain manakah yang lebih baik jika dilihat dari banyaknya orang yang login dan checkout pada website perusahaan."
   ]
  },
  {
   "cell_type": "markdown",
   "metadata": {},
   "source": [
    "## Preparasi Data"
   ]
  },
  {
   "cell_type": "code",
   "execution_count": 34,
   "metadata": {},
   "outputs": [],
   "source": [
    "# Memanggil library yang dibutuhkan\n",
    "import pandas as pd\n",
    "import numpy as np\n",
    "from statsmodels.stats import weightstats as stats"
   ]
  },
  {
   "cell_type": "code",
   "execution_count": 35,
   "metadata": {},
   "outputs": [
    {
     "data": {
      "text/html": [
       "<div>\n",
       "<style scoped>\n",
       "    .dataframe tbody tr th:only-of-type {\n",
       "        vertical-align: middle;\n",
       "    }\n",
       "\n",
       "    .dataframe tbody tr th {\n",
       "        vertical-align: top;\n",
       "    }\n",
       "\n",
       "    .dataframe thead th {\n",
       "        text-align: right;\n",
       "    }\n",
       "</style>\n",
       "<table border=\"1\" class=\"dataframe\">\n",
       "  <thead>\n",
       "    <tr style=\"text-align: right;\">\n",
       "      <th></th>\n",
       "      <th>Login</th>\n",
       "      <th>Checkout</th>\n",
       "      <th>group</th>\n",
       "    </tr>\n",
       "  </thead>\n",
       "  <tbody>\n",
       "    <tr>\n",
       "      <th>0</th>\n",
       "      <td>551</td>\n",
       "      <td>310</td>\n",
       "      <td>A</td>\n",
       "    </tr>\n",
       "    <tr>\n",
       "      <th>1</th>\n",
       "      <td>565</td>\n",
       "      <td>300</td>\n",
       "      <td>A</td>\n",
       "    </tr>\n",
       "    <tr>\n",
       "      <th>2</th>\n",
       "      <td>580</td>\n",
       "      <td>314</td>\n",
       "      <td>B</td>\n",
       "    </tr>\n",
       "    <tr>\n",
       "      <th>3</th>\n",
       "      <td>593</td>\n",
       "      <td>311</td>\n",
       "      <td>A</td>\n",
       "    </tr>\n",
       "    <tr>\n",
       "      <th>4</th>\n",
       "      <td>585</td>\n",
       "      <td>347</td>\n",
       "      <td>B</td>\n",
       "    </tr>\n",
       "  </tbody>\n",
       "</table>\n",
       "</div>"
      ],
      "text/plain": [
       "   Login  Checkout group\n",
       "0    551       310     A\n",
       "1    565       300     A\n",
       "2    580       314     B\n",
       "3    593       311     A\n",
       "4    585       347     B"
      ]
     },
     "execution_count": 35,
     "metadata": {},
     "output_type": "execute_result"
    }
   ],
   "source": [
    "# Memanggil dataset\n",
    "ab_data=pd.read_csv('Datawebsite.csv',delimiter=';')\n",
    "ab_data.head()"
   ]
  },
  {
   "cell_type": "code",
   "execution_count": 46,
   "metadata": {},
   "outputs": [
    {
     "data": {
      "text/plain": [
       "(2000, 3)"
      ]
     },
     "execution_count": 46,
     "metadata": {},
     "output_type": "execute_result"
    }
   ],
   "source": [
    "# Melihat ukuran data\n",
    "ab_data.shape"
   ]
  },
  {
   "cell_type": "code",
   "execution_count": 36,
   "metadata": {},
   "outputs": [],
   "source": [
    "# Memisahkan dataset menjadi dua berdasarkan desain website yang digunakan (A= Control, B= Treatment)\n",
    "A_group = ab_data[ab_data['group'] == 'A']\n",
    "B_group = ab_data[ab_data['group'] == 'B']"
   ]
  },
  {
   "cell_type": "markdown",
   "metadata": {},
   "source": [
    "## Membandingkan antara control dengan treatment\n",
    "\n",
    "Pada kasus membandingkan desain website perusahaan ini, akan dilakukan AB Test terhadap variabel Login dan Checkout dari data website perusahaan."
   ]
  },
  {
   "cell_type": "markdown",
   "metadata": {},
   "source": [
    "### Variabel Login"
   ]
  },
  {
   "cell_type": "code",
   "execution_count": 42,
   "metadata": {},
   "outputs": [
    {
     "data": {
      "text/html": [
       "<div>\n",
       "<style scoped>\n",
       "    .dataframe tbody tr th:only-of-type {\n",
       "        vertical-align: middle;\n",
       "    }\n",
       "\n",
       "    .dataframe tbody tr th {\n",
       "        vertical-align: top;\n",
       "    }\n",
       "\n",
       "    .dataframe thead th {\n",
       "        text-align: right;\n",
       "    }\n",
       "</style>\n",
       "<table border=\"1\" class=\"dataframe\">\n",
       "  <thead>\n",
       "    <tr style=\"text-align: right;\">\n",
       "      <th></th>\n",
       "      <th>Data</th>\n",
       "      <th>Mean</th>\n",
       "      <th>Std</th>\n",
       "      <th>Z score</th>\n",
       "      <th>P-value</th>\n",
       "      <th>Kesimpulan</th>\n",
       "    </tr>\n",
       "  </thead>\n",
       "  <tbody>\n",
       "    <tr>\n",
       "      <th>0</th>\n",
       "      <td>A</td>\n",
       "      <td>575.388211</td>\n",
       "      <td>14.291809</td>\n",
       "      <td>1.4996</td>\n",
       "      <td>0.133719</td>\n",
       "      <td>H0 tidak ditolak</td>\n",
       "    </tr>\n",
       "    <tr>\n",
       "      <th>1</th>\n",
       "      <td>B</td>\n",
       "      <td>574.406496</td>\n",
       "      <td>14.948900</td>\n",
       "      <td></td>\n",
       "      <td></td>\n",
       "      <td></td>\n",
       "    </tr>\n",
       "  </tbody>\n",
       "</table>\n",
       "</div>"
      ],
      "text/plain": [
       "  Data        Mean        Std Z score   P-value        Kesimpulan\n",
       "0    A  575.388211  14.291809  1.4996  0.133719  H0 tidak ditolak\n",
       "1    B  574.406496  14.948900                                    "
      ]
     },
     "execution_count": 42,
     "metadata": {},
     "output_type": "execute_result"
    }
   ],
   "source": [
    "# Melakukan uji z terhadap data\n",
    "ztest,pval1=stats.ztest(A_group['Login'],B_group['Login'],value=0,alternative='two-sided')\n",
    "\n",
    "# Membuat penarikan kesimpulan\n",
    "kesimpulan1='H0 ditolak'\n",
    "kesimpulan2='H0 tidak ditolak'\n",
    "kesimpulan= kesimpulan1 if pval1<0.05 else kesimpulan2\n",
    "\n",
    "#Mengeluarkan hasil uji z\n",
    "hasil=pd.DataFrame()\n",
    "hasil['Data']=['A','B']\n",
    "hasil['Mean']=[np.mean(A_group['Login']),np.mean(B_group['Login'])]\n",
    "hasil['Std']=[np.std(A_group['Login']),np.std(B_group['Login'])]\n",
    "hasil['Z score']=[ztest,'']\n",
    "hasil['P-value']=[pval1,'']\n",
    "hasil['Kesimpulan']=[kesimpulan,'']\n",
    "hasil"
   ]
  },
  {
   "cell_type": "markdown",
   "metadata": {},
   "source": [
    "Perhatikan bahwa kesimpulan yang diperoleh adalah **H0 tidak ditolak**. Dapat dikatakan bahwa tidak ada perbedaan yang signifikan dari rata-rata banyaknya kunjungan (Login) antara control dan treatment."
   ]
  },
  {
   "cell_type": "markdown",
   "metadata": {},
   "source": [
    "### Variabel Checkout"
   ]
  },
  {
   "cell_type": "code",
   "execution_count": 43,
   "metadata": {},
   "outputs": [
    {
     "data": {
      "text/html": [
       "<div>\n",
       "<style scoped>\n",
       "    .dataframe tbody tr th:only-of-type {\n",
       "        vertical-align: middle;\n",
       "    }\n",
       "\n",
       "    .dataframe tbody tr th {\n",
       "        vertical-align: top;\n",
       "    }\n",
       "\n",
       "    .dataframe thead th {\n",
       "        text-align: right;\n",
       "    }\n",
       "</style>\n",
       "<table border=\"1\" class=\"dataframe\">\n",
       "  <thead>\n",
       "    <tr style=\"text-align: right;\">\n",
       "      <th></th>\n",
       "      <th>Data</th>\n",
       "      <th>Mean</th>\n",
       "      <th>Std</th>\n",
       "      <th>Z score</th>\n",
       "      <th>P-value</th>\n",
       "      <th>Kesimpulan</th>\n",
       "    </tr>\n",
       "  </thead>\n",
       "  <tbody>\n",
       "    <tr>\n",
       "      <th>0</th>\n",
       "      <td>A</td>\n",
       "      <td>324.653455</td>\n",
       "      <td>14.876758</td>\n",
       "      <td>0.49356</td>\n",
       "      <td>0.621617</td>\n",
       "      <td>H0 tidak ditolak</td>\n",
       "    </tr>\n",
       "    <tr>\n",
       "      <th>1</th>\n",
       "      <td>B</td>\n",
       "      <td>324.329724</td>\n",
       "      <td>14.441729</td>\n",
       "      <td></td>\n",
       "      <td></td>\n",
       "      <td></td>\n",
       "    </tr>\n",
       "  </tbody>\n",
       "</table>\n",
       "</div>"
      ],
      "text/plain": [
       "  Data        Mean        Std  Z score   P-value        Kesimpulan\n",
       "0    A  324.653455  14.876758  0.49356  0.621617  H0 tidak ditolak\n",
       "1    B  324.329724  14.441729                                     "
      ]
     },
     "execution_count": 43,
     "metadata": {},
     "output_type": "execute_result"
    }
   ],
   "source": [
    "# Melakukan uji z terhadap data\n",
    "ztest2,pval2=stats.ztest(A_group['Checkout'],B_group['Checkout'],value=0,alternative='two-sided')\n",
    "\n",
    "# Membuat penarikan kesimpulan\n",
    "kesimpulan1='H0 ditolak'\n",
    "kesimpulan2='H0 tidak ditolak'\n",
    "kesimpulan= kesimpulan1 if pval1<0.05 else kesimpulan2\n",
    "\n",
    "# Mengeluarkan hasil uji z\n",
    "hasil1=pd.DataFrame()\n",
    "hasil1['Data']=['A','B']\n",
    "hasil1['Mean']=[np.mean(A_group['Checkout']),np.mean(B_group['Checkout'])]\n",
    "hasil1['Std']=[np.std(A_group['Checkout']),np.std(B_group['Checkout'])]\n",
    "hasil1['Z score']=[ztest2,'']\n",
    "hasil1['P-value']=[pval2,'']\n",
    "hasil1['Kesimpulan']=[kesimpulan,'']\n",
    "hasil1"
   ]
  },
  {
   "cell_type": "markdown",
   "metadata": {},
   "source": [
    "Perhatikan bahwa kesimpulan yang diperoleh adalah **H0 tidak ditolak**. Dapat dikatakan bahwa tidak ada perbedaan yang signifikan dari rata-rata banyaknya jumlah pembelian (Checkout) antara control dan treatment."
   ]
  },
  {
   "cell_type": "markdown",
   "metadata": {},
   "source": [
    "## Kesimpulan\n",
    "Dari uji statistik yang dilakukan terhadap kedua variabel (variabel Login dan Checkout) pada data diperoleh kesimpulan :\n",
    "1. Tidak ada perbedaan yang signifikan dari rata-rata antara control (group A) dan treatment (group B) untuk setiap variabel yang diuji.\n",
    "2. Tidak adanya perbedaan yang signifikan dari kedua desain menyebabkan perusahaan dapat memilih desain mana yang akan digunakan untuk desain websitenya dengan memperhatikan dan mempertimbangkan operational cost dari penggunaan masing masing desain."
   ]
  },
  {
   "cell_type": "code",
   "execution_count": null,
   "metadata": {},
   "outputs": [],
   "source": []
  }
 ],
 "metadata": {
  "kernelspec": {
   "display_name": "Python 3",
   "language": "python",
   "name": "python3"
  },
  "language_info": {
   "codemirror_mode": {
    "name": "ipython",
    "version": 3
   },
   "file_extension": ".py",
   "mimetype": "text/x-python",
   "name": "python",
   "nbconvert_exporter": "python",
   "pygments_lexer": "ipython3",
   "version": "3.6.4"
  }
 },
 "nbformat": 4,
 "nbformat_minor": 2
}
