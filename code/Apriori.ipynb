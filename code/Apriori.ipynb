{
 "cells": [
  {
   "cell_type": "markdown",
   "metadata": {},
   "source": [
    "# Market Basket Analysis\n",
    "## Oleh : Febi Andika Dani Fajar Suryawan"
   ]
  },
  {
   "cell_type": "markdown",
   "metadata": {},
   "source": [
    "## Studi Kasus\n",
    "Diberikan data transaksi pembelian item pada suatu toko online. Data berisi rekaman waktu, nama pembeli, dan item pembelian dimana setiap pembeli maksimal membeli 3 buah item. Akan dilakukan market based analisis untuk mengetahui bagaimana asosiasi dan korelasi diantara item-item yang tersedia."
   ]
  },
  {
   "cell_type": "markdown",
   "metadata": {},
   "source": [
    "## Preparasi Data"
   ]
  },
  {
   "cell_type": "code",
   "execution_count": 2,
   "metadata": {},
   "outputs": [],
   "source": [
    "# Memanggil library yang dibutuhkan\n",
    "import pandas as pd\n",
    "import numpy as np\n",
    "from apyori import apriori"
   ]
  },
  {
   "cell_type": "code",
   "execution_count": 3,
   "metadata": {},
   "outputs": [
    {
     "data": {
      "text/html": [
       "<div>\n",
       "<style scoped>\n",
       "    .dataframe tbody tr th:only-of-type {\n",
       "        vertical-align: middle;\n",
       "    }\n",
       "\n",
       "    .dataframe tbody tr th {\n",
       "        vertical-align: top;\n",
       "    }\n",
       "\n",
       "    .dataframe thead th {\n",
       "        text-align: right;\n",
       "    }\n",
       "</style>\n",
       "<table border=\"1\" class=\"dataframe\">\n",
       "  <thead>\n",
       "    <tr style=\"text-align: right;\">\n",
       "      <th></th>\n",
       "      <th>Timestamp</th>\n",
       "      <th>Name</th>\n",
       "      <th>Item 1</th>\n",
       "      <th>Item 2</th>\n",
       "      <th>Item 3</th>\n",
       "    </tr>\n",
       "  </thead>\n",
       "  <tbody>\n",
       "    <tr>\n",
       "      <th>0</th>\n",
       "      <td>2019/09/17 8:58:22 AM GMT+7</td>\n",
       "      <td>Firdaus Adi Nugroho</td>\n",
       "      <td>HP</td>\n",
       "      <td>Racket</td>\n",
       "      <td>Watch</td>\n",
       "    </tr>\n",
       "    <tr>\n",
       "      <th>1</th>\n",
       "      <td>2019/09/17 8:58:24 AM GMT+7</td>\n",
       "      <td>faizah</td>\n",
       "      <td>HP</td>\n",
       "      <td>Camera</td>\n",
       "      <td>Watch</td>\n",
       "    </tr>\n",
       "    <tr>\n",
       "      <th>2</th>\n",
       "      <td>2019/09/17 8:58:30 AM GMT+7</td>\n",
       "      <td>andrem</td>\n",
       "      <td>Watch</td>\n",
       "      <td>Camera</td>\n",
       "      <td>Music Pad</td>\n",
       "    </tr>\n",
       "    <tr>\n",
       "      <th>3</th>\n",
       "      <td>2019/09/17 8:58:30 AM GMT+7</td>\n",
       "      <td>laili</td>\n",
       "      <td>Camera</td>\n",
       "      <td>Watch</td>\n",
       "      <td>Mouse</td>\n",
       "    </tr>\n",
       "    <tr>\n",
       "      <th>4</th>\n",
       "      <td>2019/09/17 8:58:33 AM GMT+7</td>\n",
       "      <td>Tara</td>\n",
       "      <td>HP</td>\n",
       "      <td>Watch</td>\n",
       "      <td>Music Pad</td>\n",
       "    </tr>\n",
       "  </tbody>\n",
       "</table>\n",
       "</div>"
      ],
      "text/plain": [
       "                     Timestamp                 Name  Item 1  Item 2     Item 3\n",
       "0  2019/09/17 8:58:22 AM GMT+7  Firdaus Adi Nugroho      HP  Racket      Watch\n",
       "1  2019/09/17 8:58:24 AM GMT+7               faizah      HP  Camera      Watch\n",
       "2  2019/09/17 8:58:30 AM GMT+7               andrem   Watch  Camera  Music Pad\n",
       "3  2019/09/17 8:58:30 AM GMT+7                laili  Camera   Watch      Mouse\n",
       "4  2019/09/17 8:58:33 AM GMT+7                 Tara      HP   Watch  Music Pad"
      ]
     },
     "execution_count": 3,
     "metadata": {},
     "output_type": "execute_result"
    }
   ],
   "source": [
    "# Memanggil dataset\n",
    "df=pd.read_csv('form.csv',delimiter=',')\n",
    "df.head()"
   ]
  },
  {
   "cell_type": "code",
   "execution_count": 4,
   "metadata": {},
   "outputs": [],
   "source": [
    "# Membuang kolom Timestamp, Name\n",
    "data=df.drop(['Timestamp','Name'],axis=1)"
   ]
  },
  {
   "cell_type": "code",
   "execution_count": 5,
   "metadata": {},
   "outputs": [
    {
     "data": {
      "text/plain": [
       "[['HP', 'Racket', 'Watch'],\n",
       " ['HP', 'Camera', 'Watch'],\n",
       " ['Watch', 'Camera', 'Music Pad'],\n",
       " ['Camera', 'Watch', 'Mouse'],\n",
       " ['HP', 'Watch', 'Music Pad'],\n",
       " ['Watch', 'Racket', 'Camera'],\n",
       " ['HP', 'Camera', 'Watch'],\n",
       " ['Watch', 'Camera', 'Music Pad'],\n",
       " ['Racket', 'Soap', 'Guitar'],\n",
       " ['Racket', 'Camera', 'Guitar'],\n",
       " ['Camera', 'Bag', 'nan'],\n",
       " ['Music Pad', 'Guitar', 'Camera'],\n",
       " ['Camera', 'Watch', 'nan'],\n",
       " ['Guitar', 'Camera', 'Music Pad'],\n",
       " ['Camera', 'Watch', 'Music Pad'],\n",
       " ['Camera', 'Racket', 'Guitar'],\n",
       " ['Guitar', 'Camera', 'Watch'],\n",
       " ['Guitar', 'Watch', 'nan'],\n",
       " ['Camera', 'Watch', 'nan'],\n",
       " ['Soap', 'Bag', 'Guitar'],\n",
       " ['Router', 'Bag', 'nan'],\n",
       " ['Watch', 'Racket', 'Soap'],\n",
       " ['Music Pad', 'Soap', 'Watch'],\n",
       " ['Mouse', 'Camera', 'Soap']]"
      ]
     },
     "execution_count": 5,
     "metadata": {},
     "output_type": "execute_result"
    }
   ],
   "source": [
    "# Membuat list dalam list dari transaksi pembelian barang\n",
    "records = []\n",
    "for i in range(data.shape[0]):\n",
    "    records.append([str(data.values[i,j]) for j in range(data.shape[1])])\n",
    "records"
   ]
  },
  {
   "cell_type": "markdown",
   "metadata": {},
   "source": [
    "Perhatikan bahwa terdapat sebuah item yang tertulis 'nan'. Hal ini berarti pada transaksi tersebut, tidak ada item yang dibeli pada pembelian ke-n dimana 'nan' tercetak."
   ]
  },
  {
   "cell_type": "markdown",
   "metadata": {},
   "source": [
    "## Market Based Analysis\n",
    "\n",
    "Pada market based analysis kali ini, digunakan algoritma apriori untuk membuat aturan asosiasi antara tiap item. Pada program kali ini digunakan library apyori untuk membuat algoritma apriori."
   ]
  },
  {
   "cell_type": "code",
   "execution_count": 6,
   "metadata": {},
   "outputs": [],
   "source": [
    "# Menggunakan fungsi apriori untuk membuat asosiasi\n",
    "association_rules = apriori(records, min_support=0.4, min_confidence=0.5,min_lift=1)\n",
    "# Membuat list hasil dari algoritma apriori\n",
    "association_results = list(association_rules)"
   ]
  },
  {
   "cell_type": "code",
   "execution_count": 7,
   "metadata": {},
   "outputs": [
    {
     "data": {
      "text/html": [
       "<div>\n",
       "<style scoped>\n",
       "    .dataframe tbody tr th:only-of-type {\n",
       "        vertical-align: middle;\n",
       "    }\n",
       "\n",
       "    .dataframe tbody tr th {\n",
       "        vertical-align: top;\n",
       "    }\n",
       "\n",
       "    .dataframe thead th {\n",
       "        text-align: right;\n",
       "    }\n",
       "</style>\n",
       "<table border=\"1\" class=\"dataframe\">\n",
       "  <thead>\n",
       "    <tr style=\"text-align: right;\">\n",
       "      <th></th>\n",
       "      <th>Rule</th>\n",
       "      <th>Support</th>\n",
       "      <th>Confidence</th>\n",
       "      <th>Lift</th>\n",
       "    </tr>\n",
       "  </thead>\n",
       "  <tbody>\n",
       "    <tr>\n",
       "      <th>0</th>\n",
       "      <td>['Camera'] -&gt; ['Watch']</td>\n",
       "      <td>0.416667</td>\n",
       "      <td>0.625000</td>\n",
       "      <td>1.0</td>\n",
       "    </tr>\n",
       "    <tr>\n",
       "      <th>1</th>\n",
       "      <td>['Watch'] -&gt; ['Camera']</td>\n",
       "      <td>0.416667</td>\n",
       "      <td>0.666667</td>\n",
       "      <td>1.0</td>\n",
       "    </tr>\n",
       "  </tbody>\n",
       "</table>\n",
       "</div>"
      ],
      "text/plain": [
       "                      Rule   Support  Confidence  Lift\n",
       "0  ['Camera'] -> ['Watch']  0.416667    0.625000   1.0\n",
       "1  ['Watch'] -> ['Camera']  0.416667    0.666667   1.0"
      ]
     },
     "execution_count": 7,
     "metadata": {},
     "output_type": "execute_result"
    }
   ],
   "source": [
    "# Menampilkan hasil asosiasi dari item \n",
    "Result=pd.DataFrame(columns=['Rule','Support','Confidence','Lift'])\n",
    "for item in association_results:\n",
    "    pair = item[2]\n",
    "    for i in pair:\n",
    "        items = str([x for x in i[0]])\n",
    "        if i[3]!=1:\n",
    "            Result=Result.append({'Rule':str([x for x in i[0]])+ \" -> \" +str([x for x in i[1]]),'Support':item[1],'Confidence':i[2],'Lift':i[3]},ignore_index=True)\n",
    "Result"
   ]
  },
  {
   "cell_type": "markdown",
   "metadata": {},
   "source": [
    "## Kesimpulan\n",
    "Sebagai contoh, disini saya memilih nilai support terkecil adalah 0.4, nilai confidence terkecil adalah 0.5 dan nilai lift terkecil adalah 1 untuk membuat asosiasi diantara tiap item. Dapat dilihat bahwa, untuk nilai parameter tersebut hanya terdapat dua bentuk asosiasi yaitu antara Camera dan Watch. Diperoleh pula, \n",
    "- untuk rule ke-0, nilai support sebesar 0.41667 yang mana berarti peluang pembeli membeli Watch adalah sebesar 0.416667 dan nilai confidence 0.625000 yang berarti terdapat peluang sebesar 0.625000 orang akan membeli Watch pada saat dia sudah membeli .\n",
    "- untuk rule ke-1, nilai support sebesar 0.41667 yang mana berarti peluang pembeli membeli Camera adalah sebesar 0.416667 dan nilai confidence 0.666667 yang berarti terdapat peluang sebesar 0.625000 orang akan membeli Watch pada saat dia sudah membeli Camera."
   ]
  },
  {
   "cell_type": "markdown",
   "metadata": {},
   "source": [
    "**Catatan:** Dapat dilakukan pergantian nilai support, confidence dan lift untuk menemukan bentuk asosiasi yang lain dari item-item tersebut. "
   ]
  },
  {
   "cell_type": "code",
   "execution_count": null,
   "metadata": {},
   "outputs": [],
   "source": []
  }
 ],
 "metadata": {
  "kernelspec": {
   "display_name": "Python 3",
   "language": "python",
   "name": "python3"
  },
  "language_info": {
   "codemirror_mode": {
    "name": "ipython",
    "version": 3
   },
   "file_extension": ".py",
   "mimetype": "text/x-python",
   "name": "python",
   "nbconvert_exporter": "python",
   "pygments_lexer": "ipython3",
   "version": "3.6.4"
  }
 },
 "nbformat": 4,
 "nbformat_minor": 2
}
