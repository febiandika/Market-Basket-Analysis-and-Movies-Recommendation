{
 "cells": [
  {
   "cell_type": "markdown",
   "metadata": {},
   "source": [
    "# Content Based Model for Movie Recommendation\n",
    "## Oleh : Febi Andika Dani Fajar Suryawan\n"
   ]
  },
  {
   "cell_type": "markdown",
   "metadata": {},
   "source": [
    "## Studi Kasus\n",
    "Diberikan data berisi 10 judul film beserta genre, director, dan actors dari film tersebut. Akan dibuat daftar rekomendasi film berdasarkan kemiripan suatu film terhadap film lainnya dengan melihat genre, director dan actors film-film tersebut."
   ]
  },
  {
   "cell_type": "markdown",
   "metadata": {},
   "source": [
    "## Preparasi Data"
   ]
  },
  {
   "cell_type": "code",
   "execution_count": 3,
   "metadata": {},
   "outputs": [],
   "source": [
    "# Memanggil library yang dibutuhkan\n",
    "import pandas as pd\n",
    "import numpy as np\n",
    "from sklearn.metrics.pairwise import cosine_similarity\n",
    "from sklearn.feature_extraction.text import CountVectorizer"
   ]
  },
  {
   "cell_type": "code",
   "execution_count": 4,
   "metadata": {},
   "outputs": [
    {
     "data": {
      "text/html": [
       "<div>\n",
       "<style scoped>\n",
       "    .dataframe tbody tr th:only-of-type {\n",
       "        vertical-align: middle;\n",
       "    }\n",
       "\n",
       "    .dataframe tbody tr th {\n",
       "        vertical-align: top;\n",
       "    }\n",
       "\n",
       "    .dataframe thead th {\n",
       "        text-align: right;\n",
       "    }\n",
       "</style>\n",
       "<table border=\"1\" class=\"dataframe\">\n",
       "  <thead>\n",
       "    <tr style=\"text-align: right;\">\n",
       "      <th></th>\n",
       "      <th>Title</th>\n",
       "      <th>Genre</th>\n",
       "      <th>Director</th>\n",
       "      <th>Actors</th>\n",
       "    </tr>\n",
       "  </thead>\n",
       "  <tbody>\n",
       "    <tr>\n",
       "      <th>0</th>\n",
       "      <td>Ada Apa dengan Cinta 2</td>\n",
       "      <td>Romance, Drama</td>\n",
       "      <td>Riri Riza</td>\n",
       "      <td>Nicholas Saputra, Dian Sastrowardoyo, Adinia W...</td>\n",
       "    </tr>\n",
       "    <tr>\n",
       "      <th>1</th>\n",
       "      <td>Gundala</td>\n",
       "      <td>Action, Drama</td>\n",
       "      <td>Joko Anwar</td>\n",
       "      <td>Tara Basro, Abimana Aryasatya, Lukman Sardi</td>\n",
       "    </tr>\n",
       "    <tr>\n",
       "      <th>2</th>\n",
       "      <td>Dilan 1991</td>\n",
       "      <td>Romance, Drama</td>\n",
       "      <td>Pidi Baiq</td>\n",
       "      <td>Iqbaal Ramadhan, Vanesha Prescilla</td>\n",
       "    </tr>\n",
       "    <tr>\n",
       "      <th>3</th>\n",
       "      <td>Bumi Manusia</td>\n",
       "      <td>Drama, History</td>\n",
       "      <td>Hanung Bramantyo</td>\n",
       "      <td>Iqbaal Ramadhan, Mawar Eva</td>\n",
       "    </tr>\n",
       "    <tr>\n",
       "      <th>4</th>\n",
       "      <td>Dua Garis Biru</td>\n",
       "      <td>Drama</td>\n",
       "      <td>Ginatri Noer</td>\n",
       "      <td>Adhisty Zara, Angga Yunanda</td>\n",
       "    </tr>\n",
       "    <tr>\n",
       "      <th>5</th>\n",
       "      <td>Avengers: End Game</td>\n",
       "      <td>Action, Fiction</td>\n",
       "      <td>Joe Russo</td>\n",
       "      <td>Robert Downey, Chris Evans, Chris Hemworth</td>\n",
       "    </tr>\n",
       "    <tr>\n",
       "      <th>6</th>\n",
       "      <td>The Lion King</td>\n",
       "      <td>Drama, Adventure</td>\n",
       "      <td>Jon Favreau</td>\n",
       "      <td>Donald Glover, Beyonce</td>\n",
       "    </tr>\n",
       "    <tr>\n",
       "      <th>7</th>\n",
       "      <td>Aladdin</td>\n",
       "      <td>Romance, Fantasy</td>\n",
       "      <td>Guy Ritchie</td>\n",
       "      <td>Naomi Scott, Mena Massoud</td>\n",
       "    </tr>\n",
       "    <tr>\n",
       "      <th>8</th>\n",
       "      <td>Spiderman: Far From Home</td>\n",
       "      <td>Fantasy, Fiction</td>\n",
       "      <td>Jon Watts</td>\n",
       "      <td>Tom Holland, Zendaya</td>\n",
       "    </tr>\n",
       "    <tr>\n",
       "      <th>9</th>\n",
       "      <td>Captain Marvel</td>\n",
       "      <td>Fiction</td>\n",
       "      <td>Anna Boden</td>\n",
       "      <td>Brie Larson, Samuel Jackson</td>\n",
       "    </tr>\n",
       "  </tbody>\n",
       "</table>\n",
       "</div>"
      ],
      "text/plain": [
       "                      Title             Genre          Director  \\\n",
       "0    Ada Apa dengan Cinta 2    Romance, Drama         Riri Riza   \n",
       "1                   Gundala     Action, Drama        Joko Anwar   \n",
       "2                Dilan 1991    Romance, Drama         Pidi Baiq   \n",
       "3              Bumi Manusia    Drama, History  Hanung Bramantyo   \n",
       "4            Dua Garis Biru             Drama      Ginatri Noer   \n",
       "5        Avengers: End Game   Action, Fiction         Joe Russo   \n",
       "6             The Lion King  Drama, Adventure       Jon Favreau   \n",
       "7                   Aladdin  Romance, Fantasy       Guy Ritchie   \n",
       "8  Spiderman: Far From Home  Fantasy, Fiction         Jon Watts   \n",
       "9            Captain Marvel           Fiction        Anna Boden   \n",
       "\n",
       "                                              Actors  \n",
       "0  Nicholas Saputra, Dian Sastrowardoyo, Adinia W...  \n",
       "1        Tara Basro, Abimana Aryasatya, Lukman Sardi  \n",
       "2                 Iqbaal Ramadhan, Vanesha Prescilla  \n",
       "3                         Iqbaal Ramadhan, Mawar Eva  \n",
       "4                        Adhisty Zara, Angga Yunanda  \n",
       "5         Robert Downey, Chris Evans, Chris Hemworth  \n",
       "6                             Donald Glover, Beyonce  \n",
       "7                          Naomi Scott, Mena Massoud  \n",
       "8                               Tom Holland, Zendaya  \n",
       "9                        Brie Larson, Samuel Jackson  "
      ]
     },
     "execution_count": 4,
     "metadata": {},
     "output_type": "execute_result"
    }
   ],
   "source": [
    "# Memanggil dataset\n",
    "df=pd.read_csv('film.csv',delimiter=';')\n",
    "df"
   ]
  },
  {
   "cell_type": "code",
   "execution_count": 5,
   "metadata": {},
   "outputs": [
    {
     "data": {
      "text/html": [
       "<div>\n",
       "<style scoped>\n",
       "    .dataframe tbody tr th:only-of-type {\n",
       "        vertical-align: middle;\n",
       "    }\n",
       "\n",
       "    .dataframe tbody tr th {\n",
       "        vertical-align: top;\n",
       "    }\n",
       "\n",
       "    .dataframe thead th {\n",
       "        text-align: right;\n",
       "    }\n",
       "</style>\n",
       "<table border=\"1\" class=\"dataframe\">\n",
       "  <thead>\n",
       "    <tr style=\"text-align: right;\">\n",
       "      <th></th>\n",
       "      <th>Title</th>\n",
       "      <th>Genre</th>\n",
       "      <th>Director</th>\n",
       "      <th>Actors</th>\n",
       "    </tr>\n",
       "  </thead>\n",
       "  <tbody>\n",
       "    <tr>\n",
       "      <th>0</th>\n",
       "      <td>Ada Apa dengan Cinta 2</td>\n",
       "      <td>Romance, Drama</td>\n",
       "      <td>Riri Riza</td>\n",
       "      <td>Nicholas Saputra, Dian Sastrowardoyo, Adinia W...</td>\n",
       "    </tr>\n",
       "    <tr>\n",
       "      <th>1</th>\n",
       "      <td>Gundala</td>\n",
       "      <td>Action, Drama</td>\n",
       "      <td>Joko Anwar</td>\n",
       "      <td>Tara Basro, Abimana Aryasatya, Lukman Sardi</td>\n",
       "    </tr>\n",
       "    <tr>\n",
       "      <th>2</th>\n",
       "      <td>Dilan 1991</td>\n",
       "      <td>Romance, Drama</td>\n",
       "      <td>Pidi Baiq</td>\n",
       "      <td>Iqbaal Ramadhan, Vanesha Prescilla</td>\n",
       "    </tr>\n",
       "    <tr>\n",
       "      <th>3</th>\n",
       "      <td>Bumi Manusia</td>\n",
       "      <td>Drama, History</td>\n",
       "      <td>Hanung Bramantyo</td>\n",
       "      <td>Iqbaal Ramadhan, Mawar Eva</td>\n",
       "    </tr>\n",
       "    <tr>\n",
       "      <th>4</th>\n",
       "      <td>Dua Garis Biru</td>\n",
       "      <td>Drama</td>\n",
       "      <td>Ginatri Noer</td>\n",
       "      <td>Adhisty Zara, Angga Yunanda</td>\n",
       "    </tr>\n",
       "  </tbody>\n",
       "</table>\n",
       "</div>"
      ],
      "text/plain": [
       "                    Title           Genre          Director  \\\n",
       "0  Ada Apa dengan Cinta 2  Romance, Drama         Riri Riza   \n",
       "1                 Gundala   Action, Drama        Joko Anwar   \n",
       "2              Dilan 1991  Romance, Drama         Pidi Baiq   \n",
       "3            Bumi Manusia  Drama, History  Hanung Bramantyo   \n",
       "4          Dua Garis Biru           Drama      Ginatri Noer   \n",
       "\n",
       "                                              Actors  \n",
       "0  Nicholas Saputra, Dian Sastrowardoyo, Adinia W...  \n",
       "1        Tara Basro, Abimana Aryasatya, Lukman Sardi  \n",
       "2                 Iqbaal Ramadhan, Vanesha Prescilla  \n",
       "3                         Iqbaal Ramadhan, Mawar Eva  \n",
       "4                        Adhisty Zara, Angga Yunanda  "
      ]
     },
     "execution_count": 5,
     "metadata": {},
     "output_type": "execute_result"
    }
   ],
   "source": [
    "# Mengambil kolom Title, Genre, Director, Actors dari dataset\n",
    "df=df[['Title','Genre','Director','Actors']]\n",
    "df.head()"
   ]
  },
  {
   "cell_type": "code",
   "execution_count": 6,
   "metadata": {},
   "outputs": [],
   "source": [
    "#Membuang koma diantara nama lengkap aktor dan mengambil 2 nama awal\n",
    "df['Actors']=df['Actors'].map(lambda x: x.split(',')[:2])\n",
    "\n",
    "#Membuang koma diantara Genre\n",
    "df['Genre']=df['Genre'].map(lambda x: x.lower().split(','))\n",
    "df['Director']=df['Director'].map(lambda x: x.split(' '))\n",
    "\n",
    "for index, row in df.iterrows():\n",
    "    row['Actors'] = [x.lower().replace(' ','') for x in row['Actors']]\n",
    "    row['Director'] = ''.join(row['Director']).lower()"
   ]
  },
  {
   "cell_type": "code",
   "execution_count": 7,
   "metadata": {},
   "outputs": [
    {
     "data": {
      "text/html": [
       "<div>\n",
       "<style scoped>\n",
       "    .dataframe tbody tr th:only-of-type {\n",
       "        vertical-align: middle;\n",
       "    }\n",
       "\n",
       "    .dataframe tbody tr th {\n",
       "        vertical-align: top;\n",
       "    }\n",
       "\n",
       "    .dataframe thead th {\n",
       "        text-align: right;\n",
       "    }\n",
       "</style>\n",
       "<table border=\"1\" class=\"dataframe\">\n",
       "  <thead>\n",
       "    <tr style=\"text-align: right;\">\n",
       "      <th></th>\n",
       "      <th>Genre</th>\n",
       "      <th>Director</th>\n",
       "      <th>Actors</th>\n",
       "    </tr>\n",
       "    <tr>\n",
       "      <th>Title</th>\n",
       "      <th></th>\n",
       "      <th></th>\n",
       "      <th></th>\n",
       "    </tr>\n",
       "  </thead>\n",
       "  <tbody>\n",
       "    <tr>\n",
       "      <th>Ada Apa dengan Cinta 2</th>\n",
       "      <td>[romance,  drama]</td>\n",
       "      <td>riririza</td>\n",
       "      <td>[nicholassaputra, diansastrowardoyo]</td>\n",
       "    </tr>\n",
       "    <tr>\n",
       "      <th>Gundala</th>\n",
       "      <td>[action,  drama]</td>\n",
       "      <td>jokoanwar</td>\n",
       "      <td>[tarabasro, abimanaaryasatya]</td>\n",
       "    </tr>\n",
       "    <tr>\n",
       "      <th>Dilan 1991</th>\n",
       "      <td>[romance,  drama]</td>\n",
       "      <td>pidibaiq</td>\n",
       "      <td>[iqbaalramadhan, vaneshaprescilla]</td>\n",
       "    </tr>\n",
       "    <tr>\n",
       "      <th>Bumi Manusia</th>\n",
       "      <td>[drama,  history]</td>\n",
       "      <td>hanungbramantyo</td>\n",
       "      <td>[iqbaalramadhan, mawareva]</td>\n",
       "    </tr>\n",
       "    <tr>\n",
       "      <th>Dua Garis Biru</th>\n",
       "      <td>[drama]</td>\n",
       "      <td>ginatrinoer</td>\n",
       "      <td>[adhistyzara, anggayunanda]</td>\n",
       "    </tr>\n",
       "  </tbody>\n",
       "</table>\n",
       "</div>"
      ],
      "text/plain": [
       "                                    Genre         Director  \\\n",
       "Title                                                        \n",
       "Ada Apa dengan Cinta 2  [romance,  drama]         riririza   \n",
       "Gundala                  [action,  drama]        jokoanwar   \n",
       "Dilan 1991              [romance,  drama]         pidibaiq   \n",
       "Bumi Manusia            [drama,  history]  hanungbramantyo   \n",
       "Dua Garis Biru                    [drama]      ginatrinoer   \n",
       "\n",
       "                                                      Actors  \n",
       "Title                                                         \n",
       "Ada Apa dengan Cinta 2  [nicholassaputra, diansastrowardoyo]  \n",
       "Gundala                        [tarabasro, abimanaaryasatya]  \n",
       "Dilan 1991                [iqbaalramadhan, vaneshaprescilla]  \n",
       "Bumi Manusia                      [iqbaalramadhan, mawareva]  \n",
       "Dua Garis Biru                   [adhistyzara, anggayunanda]  "
      ]
     },
     "execution_count": 7,
     "metadata": {},
     "output_type": "execute_result"
    }
   ],
   "source": [
    "# Membuat kolom Title menjadi index\n",
    "df.set_index('Title', inplace = True)\n",
    "df.head()"
   ]
  },
  {
   "cell_type": "code",
   "execution_count": 8,
   "metadata": {},
   "outputs": [
    {
     "data": {
      "text/html": [
       "<div>\n",
       "<style scoped>\n",
       "    .dataframe tbody tr th:only-of-type {\n",
       "        vertical-align: middle;\n",
       "    }\n",
       "\n",
       "    .dataframe tbody tr th {\n",
       "        vertical-align: top;\n",
       "    }\n",
       "\n",
       "    .dataframe thead th {\n",
       "        text-align: right;\n",
       "    }\n",
       "</style>\n",
       "<table border=\"1\" class=\"dataframe\">\n",
       "  <thead>\n",
       "    <tr style=\"text-align: right;\">\n",
       "      <th></th>\n",
       "      <th>words</th>\n",
       "    </tr>\n",
       "    <tr>\n",
       "      <th>Title</th>\n",
       "      <th></th>\n",
       "    </tr>\n",
       "  </thead>\n",
       "  <tbody>\n",
       "    <tr>\n",
       "      <th>Ada Apa dengan Cinta 2</th>\n",
       "      <td>romance  drama riririza nicholassaputra diansa...</td>\n",
       "    </tr>\n",
       "    <tr>\n",
       "      <th>Gundala</th>\n",
       "      <td>action  drama jokoanwar tarabasro abimanaaryas...</td>\n",
       "    </tr>\n",
       "    <tr>\n",
       "      <th>Dilan 1991</th>\n",
       "      <td>romance  drama pidibaiq iqbaalramadhan vanesha...</td>\n",
       "    </tr>\n",
       "    <tr>\n",
       "      <th>Bumi Manusia</th>\n",
       "      <td>drama  history hanungbramantyo iqbaalramadhan ...</td>\n",
       "    </tr>\n",
       "    <tr>\n",
       "      <th>Dua Garis Biru</th>\n",
       "      <td>drama ginatrinoer adhistyzara anggayunanda</td>\n",
       "    </tr>\n",
       "  </tbody>\n",
       "</table>\n",
       "</div>"
      ],
      "text/plain": [
       "                                                                    words\n",
       "Title                                                                    \n",
       "Ada Apa dengan Cinta 2  romance  drama riririza nicholassaputra diansa...\n",
       "Gundala                 action  drama jokoanwar tarabasro abimanaaryas...\n",
       "Dilan 1991              romance  drama pidibaiq iqbaalramadhan vanesha...\n",
       "Bumi Manusia            drama  history hanungbramantyo iqbaalramadhan ...\n",
       "Dua Garis Biru               drama ginatrinoer adhistyzara anggayunanda  "
      ]
     },
     "execution_count": 8,
     "metadata": {},
     "output_type": "execute_result"
    }
   ],
   "source": [
    "# Menggabungkan kolom Genre, Director, Actors menjadi satu \n",
    "df['words'] = ''\n",
    "columns = df.columns\n",
    "for index, row in df.iterrows():\n",
    "    words = ''\n",
    "    for col in columns:\n",
    "        if col != 'Director':\n",
    "            words = words + ' '.join(row[col])+ ' '\n",
    "        else:\n",
    "            words = words + row[col]+ ' '\n",
    "    row['words'] = words\n",
    "    \n",
    "df.drop(columns = [col for col in df.columns if col!= 'words'], inplace = True)\n",
    "df.head()"
   ]
  },
  {
   "cell_type": "markdown",
   "metadata": {},
   "source": [
    "## Content Based Model\n",
    "\n",
    "Dalam membuat model rekomendasi film berdasarkan konten, akan digunakan cosine similarity matrix untuk menghitung kemiripan diantara tiap film. Untuk menghitung cosine similarity matrix digunakan fungsi CountVectorizer untuk membangkitkan count matrix yang berisi jumlah kata dalam kolom words setiap baris berdasarkan daftar kata yang unik dari kumpulan kata di kolom words."
   ]
  },
  {
   "cell_type": "code",
   "execution_count": 9,
   "metadata": {},
   "outputs": [],
   "source": [
    "# Membangkitkan count matrix\n",
    "count = CountVectorizer()\n",
    "count_matrix = count.fit_transform(df['words'])"
   ]
  },
  {
   "cell_type": "code",
   "execution_count": 10,
   "metadata": {
    "scrolled": true
   },
   "outputs": [
    {
     "data": {
      "text/plain": [
       "array([[1.       , 0.2      , 0.4      , 0.2      , 0.2236068, 0.       ,\n",
       "        0.2      , 0.2      , 0.       , 0.       ],\n",
       "       [0.2      , 1.       , 0.2      , 0.2      , 0.2236068, 0.2      ,\n",
       "        0.2      , 0.       , 0.       , 0.       ],\n",
       "       [0.4      , 0.2      , 1.       , 0.4      , 0.2236068, 0.       ,\n",
       "        0.2      , 0.2      , 0.       , 0.       ],\n",
       "       [0.2      , 0.2      , 0.4      , 1.       , 0.2236068, 0.       ,\n",
       "        0.2      , 0.       , 0.       , 0.       ],\n",
       "       [0.2236068, 0.2236068, 0.2236068, 0.2236068, 1.       , 0.       ,\n",
       "        0.2236068, 0.       , 0.       , 0.       ],\n",
       "       [0.       , 0.2      , 0.       , 0.       , 0.       , 1.       ,\n",
       "        0.       , 0.       , 0.2      , 0.2236068],\n",
       "       [0.2      , 0.2      , 0.2      , 0.2      , 0.2236068, 0.       ,\n",
       "        1.       , 0.       , 0.       , 0.       ],\n",
       "       [0.2      , 0.       , 0.2      , 0.       , 0.       , 0.       ,\n",
       "        0.       , 1.       , 0.2      , 0.       ],\n",
       "       [0.       , 0.       , 0.       , 0.       , 0.       , 0.2      ,\n",
       "        0.       , 0.2      , 1.       , 0.2236068],\n",
       "       [0.       , 0.       , 0.       , 0.       , 0.       , 0.2236068,\n",
       "        0.       , 0.       , 0.2236068, 1.       ]])"
      ]
     },
     "execution_count": 10,
     "metadata": {},
     "output_type": "execute_result"
    }
   ],
   "source": [
    "# Membangun cosine similarity matrix\n",
    "cosine_sim = cosine_similarity(count_matrix, count_matrix)\n",
    "cosine_sim"
   ]
  },
  {
   "cell_type": "markdown",
   "metadata": {},
   "source": [
    "Selanjutnya, dibuat fungsi untuk membuat daftar film berdasarkan kemiripannya dengan film lain. Misalkan terdapat film A, maka akan direkomendasikan daftar 3 film yang memiliki kemiripan paling tinggi dengan film A berdasarkan cosine similarity matrix yang telah dibuat."
   ]
  },
  {
   "cell_type": "code",
   "execution_count": 11,
   "metadata": {},
   "outputs": [],
   "source": [
    "# fungsi untuk mengambil judul film sebagai input dan mengeluarkan 3 rekomendasi film \n",
    "indices = pd.Series(df.index)\n",
    "def recommendations(title, cosine_sim = cosine_sim):\n",
    "    \n",
    "    recommended_movies = []\n",
    "    # Mengambil indeks film yang sesuai dengan judul film\n",
    "    idx = indices[indices == title].index[0]\n",
    "\n",
    "    # Membuat series yang berisi similarity scores\n",
    "    score_series = pd.Series(cosine_sim[idx]).sort_values(ascending = False)\n",
    "\n",
    "    # Mengambil indeks dari 3 film yang memiliki kemiripan paling tinggi\n",
    "    top_10_indexes = list(score_series.iloc[1:4].index)\n",
    "    \n",
    "    # Membuat list berisi judul film yang direkomendasikan\n",
    "    for i in top_10_indexes:\n",
    "        recommended_movies.append(list(df.index)[i])\n",
    "        \n",
    "    return recommended_movies"
   ]
  },
  {
   "cell_type": "markdown",
   "metadata": {},
   "source": [
    "Sebagai contoh, akan dicari rekomendasi film yang memiliki kemiripan dengan film Captain Marvel sebagai berikut."
   ]
  },
  {
   "cell_type": "code",
   "execution_count": 12,
   "metadata": {},
   "outputs": [
    {
     "name": "stdout",
     "output_type": "stream",
     "text": [
      "Masukkan judul film:Captain Marvel\n",
      "Judul film yang similar dengan film Captain Marvel yang direkomendasikan antara lain:\n",
      "                Movie Title\n",
      "0  Spiderman: Far From Home\n",
      "1        Avengers: End Game\n",
      "2                   Aladdin\n"
     ]
    }
   ],
   "source": [
    "# Input judul film (Input terdapat pada data)\n",
    "title=input('Masukkan judul film:')\n",
    "\n",
    "# Memanggil fungsi untuk mengeluarkan 3 rekomendasi film\n",
    "recommendation=pd.DataFrame(recommendations(title),columns=['Movie Title'])\n",
    "\n",
    "# Mengeluarkan 3 rekomendasi film yang similar\n",
    "print('Judul film yang similar dengan film {} yang direkomendasikan antara lain:'.format(title))\n",
    "print(recommendation)"
   ]
  },
  {
   "cell_type": "markdown",
   "metadata": {},
   "source": [
    "**Catatan :** Pada content based model, alangkah baiknya digunakan data film yang relatif lebih banyak. Hal ini dapat membuat proses melihat kemiripan suatu film jauh lebih akurat dan baik (sudah dibuktikan). Pada model ini hanya digunakan data yang telah dibuat dalam proses pembelajaran kelas saja."
   ]
  },
  {
   "cell_type": "code",
   "execution_count": null,
   "metadata": {},
   "outputs": [],
   "source": []
  }
 ],
 "metadata": {
  "kernelspec": {
   "display_name": "Python 3",
   "language": "python",
   "name": "python3"
  },
  "language_info": {
   "codemirror_mode": {
    "name": "ipython",
    "version": 3
   },
   "file_extension": ".py",
   "mimetype": "text/x-python",
   "name": "python",
   "nbconvert_exporter": "python",
   "pygments_lexer": "ipython3",
   "version": "3.6.4"
  }
 },
 "nbformat": 4,
 "nbformat_minor": 2
}
