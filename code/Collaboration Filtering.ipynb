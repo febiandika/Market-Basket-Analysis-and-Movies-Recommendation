{
 "cells": [
  {
   "cell_type": "markdown",
   "metadata": {},
   "source": [
    "# Collaboration Filtering Model for Movie Recommendation\n",
    "## Oleh : Febi Andika Dani Fajar Suryawan"
   ]
  },
  {
   "cell_type": "markdown",
   "metadata": {},
   "source": [
    "## Studi Kasus\n",
    "Diberikan data berisi 10 film yang telah diberi rating oleh 24 user. Akan dibuat daftar rekomendasi film kepada seorang user yang belum menonton suatu film berdasarkan pada kemiripan penilaian rating film dari user yang lain. "
   ]
  },
  {
   "cell_type": "markdown",
   "metadata": {},
   "source": [
    "## Preparasi Data"
   ]
  },
  {
   "cell_type": "code",
   "execution_count": 1,
   "metadata": {},
   "outputs": [],
   "source": [
    "# Memanggil library yang dibutuhkan\n",
    "#from recommendation_data import dataset\n",
    "from math import sqrt\n",
    "import pandas as pd"
   ]
  },
  {
   "cell_type": "code",
   "execution_count": 15,
   "metadata": {},
   "outputs": [
    {
     "data": {
      "text/html": [
       "<div>\n",
       "<style scoped>\n",
       "    .dataframe tbody tr th:only-of-type {\n",
       "        vertical-align: middle;\n",
       "    }\n",
       "\n",
       "    .dataframe tbody tr th {\n",
       "        vertical-align: top;\n",
       "    }\n",
       "\n",
       "    .dataframe thead th {\n",
       "        text-align: right;\n",
       "    }\n",
       "</style>\n",
       "<table border=\"1\" class=\"dataframe\">\n",
       "  <thead>\n",
       "    <tr style=\"text-align: right;\">\n",
       "      <th></th>\n",
       "      <th>Ada Apa dengan Cinta 2</th>\n",
       "      <th>Gundala</th>\n",
       "      <th>Dilan 1991</th>\n",
       "      <th>Bumi Manusia</th>\n",
       "      <th>Dua Garis Biru</th>\n",
       "      <th>Avengers: End Game</th>\n",
       "      <th>The Lion King</th>\n",
       "      <th>Aladdin</th>\n",
       "      <th>Spiderman: Far From Home</th>\n",
       "      <th>Captain Marvel</th>\n",
       "    </tr>\n",
       "    <tr>\n",
       "      <th>Nama Anda</th>\n",
       "      <th></th>\n",
       "      <th></th>\n",
       "      <th></th>\n",
       "      <th></th>\n",
       "      <th></th>\n",
       "      <th></th>\n",
       "      <th></th>\n",
       "      <th></th>\n",
       "      <th></th>\n",
       "      <th></th>\n",
       "    </tr>\n",
       "  </thead>\n",
       "  <tbody>\n",
       "    <tr>\n",
       "      <th>Hania</th>\n",
       "      <td>3</td>\n",
       "      <td>5</td>\n",
       "      <td>4</td>\n",
       "      <td>4</td>\n",
       "      <td>4</td>\n",
       "      <td>0</td>\n",
       "      <td>0</td>\n",
       "      <td>0</td>\n",
       "      <td>0</td>\n",
       "      <td>0</td>\n",
       "    </tr>\n",
       "    <tr>\n",
       "      <th>Topik Zulkarnain</th>\n",
       "      <td>0</td>\n",
       "      <td>0</td>\n",
       "      <td>0</td>\n",
       "      <td>0</td>\n",
       "      <td>0</td>\n",
       "      <td>5</td>\n",
       "      <td>5</td>\n",
       "      <td>0</td>\n",
       "      <td>4</td>\n",
       "      <td>2</td>\n",
       "    </tr>\n",
       "    <tr>\n",
       "      <th>AhokTemanFirli</th>\n",
       "      <td>0</td>\n",
       "      <td>0</td>\n",
       "      <td>0</td>\n",
       "      <td>0</td>\n",
       "      <td>0</td>\n",
       "      <td>3</td>\n",
       "      <td>0</td>\n",
       "      <td>0</td>\n",
       "      <td>0</td>\n",
       "      <td>4</td>\n",
       "    </tr>\n",
       "    <tr>\n",
       "      <th>franadek</th>\n",
       "      <td>4</td>\n",
       "      <td>4</td>\n",
       "      <td>4</td>\n",
       "      <td>5</td>\n",
       "      <td>3</td>\n",
       "      <td>5</td>\n",
       "      <td>4</td>\n",
       "      <td>5</td>\n",
       "      <td>4</td>\n",
       "      <td>4</td>\n",
       "    </tr>\n",
       "    <tr>\n",
       "      <th>OM INDRA</th>\n",
       "      <td>3</td>\n",
       "      <td>0</td>\n",
       "      <td>2</td>\n",
       "      <td>0</td>\n",
       "      <td>5</td>\n",
       "      <td>5</td>\n",
       "      <td>0</td>\n",
       "      <td>1</td>\n",
       "      <td>5</td>\n",
       "      <td>5</td>\n",
       "    </tr>\n",
       "  </tbody>\n",
       "</table>\n",
       "</div>"
      ],
      "text/plain": [
       "                  Ada Apa dengan Cinta 2  Gundala  Dilan 1991  Bumi Manusia   \\\n",
       "Nama Anda                                                                      \n",
       "Hania                                  3        5           4              4   \n",
       "Topik Zulkarnain                       0        0           0              0   \n",
       "AhokTemanFirli                         0        0           0              0   \n",
       "franadek                               4        4           4              5   \n",
       "OM INDRA                               3        0           2              0   \n",
       "\n",
       "                  Dua Garis Biru  Avengers: End Game  The Lion King  Aladdin  \\\n",
       "Nama Anda                                                                      \n",
       "Hania                          4                   0              0        0   \n",
       "Topik Zulkarnain               0                   5              5        0   \n",
       "AhokTemanFirli                 0                   3              0        0   \n",
       "franadek                       3                   5              4        5   \n",
       "OM INDRA                       5                   5              0        1   \n",
       "\n",
       "                  Spiderman: Far From Home  Captain Marvel  \n",
       "Nama Anda                                                   \n",
       "Hania                                    0               0  \n",
       "Topik Zulkarnain                         4               2  \n",
       "AhokTemanFirli                           0               4  \n",
       "franadek                                 4               4  \n",
       "OM INDRA                                 5               5  "
      ]
     },
     "execution_count": 15,
     "metadata": {},
     "output_type": "execute_result"
    }
   ],
   "source": [
    "# Memanggil dataset\n",
    "data=pd.read_csv('Film_Rating.csv',delimiter=';')\n",
    "data=data.set_index('Nama Anda')\n",
    "data.head()"
   ]
  },
  {
   "cell_type": "code",
   "execution_count": 13,
   "metadata": {},
   "outputs": [],
   "source": [
    "# Membuat data menjadi dictionary\n",
    "dataset=data.to_dict(orient='index')\n",
    "for name in dataset:\n",
    "    dicto={}\n",
    "    for movie in dataset[name]:\n",
    "        if dataset[name][movie]!=0:\n",
    "            dicto[movie]=dataset[name][movie]\n",
    "    dataset[name]=dicto"
   ]
  },
  {
   "cell_type": "markdown",
   "metadata": {},
   "source": [
    "## Collaboration Filtering"
   ]
  },
  {
   "cell_type": "markdown",
   "metadata": {},
   "source": [
    "### Similarity Score\n",
    "Pada penghitungan similarity score akan digunakan jarak euclidean dari rating yang diberikan dari dua orang yang memberikan rating terhadap suatu film. Nilai similarity score sendiri adalah 1/(1+euclidean)."
   ]
  },
  {
   "cell_type": "code",
   "execution_count": 29,
   "metadata": {},
   "outputs": [],
   "source": [
    "# Membuat fungsi untuk menghitung nilai euclidean distance dari orang pertama dan kedua\n",
    "def similarity_score(person1,person2):\n",
    "    \n",
    "    # Mengambil item yang telah diberi rating oleh orang pertama dan orang kedua\n",
    "    both_viewed = {}\n",
    "\n",
    "    for item in dataset[person1]:\n",
    "        if item in dataset[person2]:\n",
    "            both_viewed[item] = 1\n",
    "            \n",
    "        if len(both_viewed) == 0:\n",
    "            return 0\n",
    "\n",
    "        # Menghitung Euclidean distance\n",
    "        sum_of_eclidean_distance = []\n",
    "\n",
    "        for item in dataset[person1]:\n",
    "            if item in dataset[person2]:\n",
    "                sum_of_eclidean_distance.append(pow(dataset[person1][item] - dataset[person2][item], 2))\n",
    "        sum_of_eclidean_distance = sum(sum_of_eclidean_distance)\n",
    "        \n",
    "        return 1/(1+sqrt(sum_of_eclidean_distance))\n"
   ]
  },
  {
   "cell_type": "markdown",
   "metadata": {},
   "source": [
    "### Person Correlation\n",
    "Pada penghitungan person correlation akan digunakan korelasi diantara dua orang yang memberikan rating terhadap suatu film. Semakin besar nilai person correlation berarti kedua orang memiliki preferensi/ kesukaan yang sama terhadap suatu film, begitupun sebaliknya."
   ]
  },
  {
   "cell_type": "code",
   "execution_count": 9,
   "metadata": {},
   "outputs": [],
   "source": [
    "# Membuat fungsi untuk menghitung nilai person correlation dari orang pertama dan kedua\n",
    "def person_correlation(person1, person2):\n",
    "\n",
    "   # Mengambil item yang keduanya telah diberi rating\n",
    "    both_rated = {}\n",
    "    for item in dataset[person1]:\n",
    "        if item in dataset[person2]:\n",
    "            both_rated[item] = 1\n",
    "\n",
    "    number_of_ratings = len(both_rated)\n",
    "\n",
    "    if number_of_ratings == 0:\n",
    "        return 0\n",
    "\n",
    "    # Menjumlahkan semua preferensi dari setiap user\n",
    "    person1_preferences_sum = sum([dataset[person1][item] for item in both_rated])\n",
    "    person2_preferences_sum = sum([dataset[person2][item] for item in both_rated])\n",
    "\n",
    "    # Jumlah kuadrat dari preferensi dari setiap user\n",
    "    person1_square_preferences_sum = sum([pow(dataset[person1][item],2) for item in both_rated])\n",
    "    person2_square_preferences_sum = sum([pow(dataset[person2][item],2) for item in both_rated])\n",
    "\n",
    "    # Menjumlahkan nilai produk dari preferensi keduanya untuk setiap item\n",
    "    product_sum_of_both_users = sum([dataset[person1][item] * dataset[person2][item] for item in both_rated])\n",
    "\n",
    "    # Menghitung pearson score\n",
    "    numerator_value = product_sum_of_both_users - (person1_preferences_sum*person2_preferences_sum/number_of_ratings)\n",
    "    denominator_value = sqrt((person1_square_preferences_sum - pow(person1_preferences_sum,2)/number_of_ratings) * (person2_square_preferences_sum -pow(person2_preferences_sum,2)/number_of_ratings))\n",
    "\n",
    "    if denominator_value == 0:\n",
    "        return 0\n",
    "    else:\n",
    "        r = numerator_value / denominator_value\n",
    "        return r"
   ]
  },
  {
   "cell_type": "markdown",
   "metadata": {},
   "source": [
    "## Model Rekomendasi Film\n",
    "Pada model rekomendasi film berikut digunakan person correlation untuk memberikan score/nilai rekomendasi terhadap suatu film."
   ]
  },
  {
   "cell_type": "code",
   "execution_count": 10,
   "metadata": {},
   "outputs": [],
   "source": [
    "# Fungsi untuk menentukan banyaknya users (orang yang mirip) dengan orang tersebut\n",
    "def most_similar_users(person, number_of_users):\n",
    "\n",
    "    scores = [(person_correlation(person, other_person), other_person) for other_person in dataset if other_person != person]\n",
    "    scores.sort()\n",
    "    scores.reverse()\n",
    "    return scores[0:number_of_users]"
   ]
  },
  {
   "cell_type": "code",
   "execution_count": 11,
   "metadata": {},
   "outputs": [],
   "source": [
    "# Membuat fungsi yang memberikan rekomendasi film kepada seseorang\n",
    "def user_recommendations(person):\n",
    "\n",
    "    totals = {}\n",
    "    simSums = {}\n",
    "    rankings_list =[]\n",
    "    for other in dataset:\n",
    "        if other == person:\n",
    "            continue\n",
    "        sim = person_correlation(person,other)\n",
    "        if sim <=0: \n",
    "            continue\n",
    "        for item in dataset[other]:\n",
    "\n",
    "            # Hanya menilai film yang belum ditonton\n",
    "            if item not in dataset[person] or dataset[person][item] == 0:\n",
    "                totals.setdefault(item,0)\n",
    "                totals[item] += dataset[other][item]* sim\n",
    "                simSums.setdefault(item,0)\n",
    "                simSums[item]+= sim\n",
    "\n",
    "    rankings = [(total/simSums[item],item) for item,total in totals.items()]\n",
    "    rankings.sort()\n",
    "    rankings.reverse()\n",
    "    recommendations_list = [recommend_item for score,recommend_item in rankings]\n",
    "    return recommendations_list,rankings"
   ]
  },
  {
   "cell_type": "markdown",
   "metadata": {},
   "source": [
    "Sebagai contoh, akan dicari rekomendasi film yang belum ditonton untuk user bernama ANI. Rekomendasi ini diurutkan berdasarkan recommendation score yang tertinggi hingga kerendah. Diperoleh list rekomendasi film untuk ANI adalah sebagai berikut:"
   ]
  },
  {
   "cell_type": "code",
   "execution_count": 14,
   "metadata": {},
   "outputs": [
    {
     "name": "stdout",
     "output_type": "stream",
     "text": [
      "Masukkan Nama: ANI\n",
      "Film yang direkomendasikan untuk ANI adalah\n",
      "           Film Title  Recommendation Score\n",
      "0  Avengers: End Game              5.000000\n",
      "1             Gundala              4.265556\n",
      "2       The Lion King              4.179129\n",
      "3      Dua Garis Biru              3.620204\n"
     ]
    }
   ],
   "source": [
    "# Input berupa nama user\n",
    "name = input(\"Masukkan Nama: \")\n",
    "\n",
    "# Memanggil fungsi untuk merekomendasikan film kepada user\n",
    "recommendation=user_recommendations(name)\n",
    "out=pd.DataFrame(recommendation[1],columns=['Recommendation Score','Film Title'])\n",
    "out=out[['Film Title','Recommendation Score']]\n",
    "\n",
    "# Mengeluarkan rekomendasi film yang belum ditonton, yang disarankan berdasarkan recommendation score\n",
    "print('Film yang direkomendasikan untuk {} adalah'.format(name))\n",
    "print(out)"
   ]
  },
  {
   "cell_type": "markdown",
   "metadata": {},
   "source": [
    "**Catatan :** Dalam membuat model collaborative filtering, alangkah baiknya dibuat dengan menggunakan data yang memiliki respon rating dari user yang banyak dan jumlah film yang banyak juga. Hal ini dapat membuat proses pembuatan rekomendasi film lebih baik. Pada model ini hanya digunakan data yang diperoleh dari hasil pembelajaran dikelas."
   ]
  },
  {
   "cell_type": "code",
   "execution_count": null,
   "metadata": {},
   "outputs": [],
   "source": []
  }
 ],
 "metadata": {
  "kernelspec": {
   "display_name": "Python 3",
   "language": "python",
   "name": "python3"
  },
  "language_info": {
   "codemirror_mode": {
    "name": "ipython",
    "version": 3
   },
   "file_extension": ".py",
   "mimetype": "text/x-python",
   "name": "python",
   "nbconvert_exporter": "python",
   "pygments_lexer": "ipython3",
   "version": "3.6.4"
  }
 },
 "nbformat": 4,
 "nbformat_minor": 2
}
